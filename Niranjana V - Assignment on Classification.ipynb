{
 "cells": [
  {
   "cell_type": "code",
   "execution_count": 1,
   "id": "78822122",
   "metadata": {},
   "outputs": [],
   "source": [
    "import pandas as pd\n",
    "import numpy as np\n",
    "import matplotlib.pyplot as plt\n",
    "import seaborn as sns"
   ]
  },
  {
   "cell_type": "markdown",
   "id": "024a8e03",
   "metadata": {},
   "source": [
    "# Reading dataset to the environment"
   ]
  },
  {
   "cell_type": "code",
   "execution_count": 2,
   "id": "11f94886",
   "metadata": {},
   "outputs": [],
   "source": [
    "df = pd.read_excel(r'C:\\Users\\ASUS\\OneDrive\\Desktop\\NIRANJANA\\DSA course\\iris (1).xls')"
   ]
  },
  {
   "cell_type": "code",
   "execution_count": 3,
   "id": "3d8c6132",
   "metadata": {},
   "outputs": [
    {
     "data": {
      "text/html": [
       "<div>\n",
       "<style scoped>\n",
       "    .dataframe tbody tr th:only-of-type {\n",
       "        vertical-align: middle;\n",
       "    }\n",
       "\n",
       "    .dataframe tbody tr th {\n",
       "        vertical-align: top;\n",
       "    }\n",
       "\n",
       "    .dataframe thead th {\n",
       "        text-align: right;\n",
       "    }\n",
       "</style>\n",
       "<table border=\"1\" class=\"dataframe\">\n",
       "  <thead>\n",
       "    <tr style=\"text-align: right;\">\n",
       "      <th></th>\n",
       "      <th>SL</th>\n",
       "      <th>SW</th>\n",
       "      <th>PL</th>\n",
       "      <th>PW</th>\n",
       "      <th>Classification</th>\n",
       "    </tr>\n",
       "  </thead>\n",
       "  <tbody>\n",
       "    <tr>\n",
       "      <th>0</th>\n",
       "      <td>5.1</td>\n",
       "      <td>3.5</td>\n",
       "      <td>1.4</td>\n",
       "      <td>0.2</td>\n",
       "      <td>Iris-setosa</td>\n",
       "    </tr>\n",
       "    <tr>\n",
       "      <th>1</th>\n",
       "      <td>4.9</td>\n",
       "      <td>3.0</td>\n",
       "      <td>1.4</td>\n",
       "      <td>0.2</td>\n",
       "      <td>Iris-setosa</td>\n",
       "    </tr>\n",
       "    <tr>\n",
       "      <th>2</th>\n",
       "      <td>NaN</td>\n",
       "      <td>3.2</td>\n",
       "      <td>1.3</td>\n",
       "      <td>0.2</td>\n",
       "      <td>Iris-setosa</td>\n",
       "    </tr>\n",
       "    <tr>\n",
       "      <th>3</th>\n",
       "      <td>4.6</td>\n",
       "      <td>3.1</td>\n",
       "      <td>1.5</td>\n",
       "      <td>0.2</td>\n",
       "      <td>Iris-setosa</td>\n",
       "    </tr>\n",
       "    <tr>\n",
       "      <th>4</th>\n",
       "      <td>5.0</td>\n",
       "      <td>3.6</td>\n",
       "      <td>1.4</td>\n",
       "      <td>0.2</td>\n",
       "      <td>Iris-setosa</td>\n",
       "    </tr>\n",
       "  </tbody>\n",
       "</table>\n",
       "</div>"
      ],
      "text/plain": [
       "    SL   SW   PL   PW Classification\n",
       "0  5.1  3.5  1.4  0.2    Iris-setosa\n",
       "1  4.9  3.0  1.4  0.2    Iris-setosa\n",
       "2  NaN  3.2  1.3  0.2    Iris-setosa\n",
       "3  4.6  3.1  1.5  0.2    Iris-setosa\n",
       "4  5.0  3.6  1.4  0.2    Iris-setosa"
      ]
     },
     "execution_count": 3,
     "metadata": {},
     "output_type": "execute_result"
    }
   ],
   "source": [
    "df.head()"
   ]
  },
  {
   "cell_type": "markdown",
   "id": "44516667",
   "metadata": {},
   "source": [
    "# Data pre-processing"
   ]
  },
  {
   "cell_type": "code",
   "execution_count": 4,
   "id": "2298ca99",
   "metadata": {},
   "outputs": [
    {
     "data": {
      "text/plain": [
       "(150, 5)"
      ]
     },
     "execution_count": 4,
     "metadata": {},
     "output_type": "execute_result"
    }
   ],
   "source": [
    "df.shape"
   ]
  },
  {
   "cell_type": "code",
   "execution_count": 5,
   "id": "1f063810",
   "metadata": {},
   "outputs": [
    {
     "name": "stdout",
     "output_type": "stream",
     "text": [
      "<class 'pandas.core.frame.DataFrame'>\n",
      "RangeIndex: 150 entries, 0 to 149\n",
      "Data columns (total 5 columns):\n",
      " #   Column          Non-Null Count  Dtype  \n",
      "---  ------          --------------  -----  \n",
      " 0   SL              143 non-null    float64\n",
      " 1   SW              144 non-null    float64\n",
      " 2   PL              144 non-null    float64\n",
      " 3   PW              150 non-null    float64\n",
      " 4   Classification  150 non-null    object \n",
      "dtypes: float64(4), object(1)\n",
      "memory usage: 6.0+ KB\n"
     ]
    }
   ],
   "source": [
    "df.info()"
   ]
  },
  {
   "cell_type": "code",
   "execution_count": 6,
   "id": "e6c57bf5",
   "metadata": {},
   "outputs": [
    {
     "data": {
      "text/html": [
       "<div>\n",
       "<style scoped>\n",
       "    .dataframe tbody tr th:only-of-type {\n",
       "        vertical-align: middle;\n",
       "    }\n",
       "\n",
       "    .dataframe tbody tr th {\n",
       "        vertical-align: top;\n",
       "    }\n",
       "\n",
       "    .dataframe thead th {\n",
       "        text-align: right;\n",
       "    }\n",
       "</style>\n",
       "<table border=\"1\" class=\"dataframe\">\n",
       "  <thead>\n",
       "    <tr style=\"text-align: right;\">\n",
       "      <th></th>\n",
       "      <th>SL</th>\n",
       "      <th>SW</th>\n",
       "      <th>PL</th>\n",
       "      <th>PW</th>\n",
       "    </tr>\n",
       "  </thead>\n",
       "  <tbody>\n",
       "    <tr>\n",
       "      <th>count</th>\n",
       "      <td>143.000000</td>\n",
       "      <td>144.000000</td>\n",
       "      <td>144.000000</td>\n",
       "      <td>150.000000</td>\n",
       "    </tr>\n",
       "    <tr>\n",
       "      <th>mean</th>\n",
       "      <td>5.855944</td>\n",
       "      <td>3.049306</td>\n",
       "      <td>3.756250</td>\n",
       "      <td>1.198667</td>\n",
       "    </tr>\n",
       "    <tr>\n",
       "      <th>std</th>\n",
       "      <td>0.828168</td>\n",
       "      <td>0.430644</td>\n",
       "      <td>1.761306</td>\n",
       "      <td>0.763161</td>\n",
       "    </tr>\n",
       "    <tr>\n",
       "      <th>min</th>\n",
       "      <td>4.300000</td>\n",
       "      <td>2.000000</td>\n",
       "      <td>1.000000</td>\n",
       "      <td>0.100000</td>\n",
       "    </tr>\n",
       "    <tr>\n",
       "      <th>25%</th>\n",
       "      <td>5.100000</td>\n",
       "      <td>2.800000</td>\n",
       "      <td>1.600000</td>\n",
       "      <td>0.300000</td>\n",
       "    </tr>\n",
       "    <tr>\n",
       "      <th>50%</th>\n",
       "      <td>5.800000</td>\n",
       "      <td>3.000000</td>\n",
       "      <td>4.350000</td>\n",
       "      <td>1.300000</td>\n",
       "    </tr>\n",
       "    <tr>\n",
       "      <th>75%</th>\n",
       "      <td>6.400000</td>\n",
       "      <td>3.300000</td>\n",
       "      <td>5.100000</td>\n",
       "      <td>1.800000</td>\n",
       "    </tr>\n",
       "    <tr>\n",
       "      <th>max</th>\n",
       "      <td>7.900000</td>\n",
       "      <td>4.400000</td>\n",
       "      <td>6.900000</td>\n",
       "      <td>2.500000</td>\n",
       "    </tr>\n",
       "  </tbody>\n",
       "</table>\n",
       "</div>"
      ],
      "text/plain": [
       "               SL          SW          PL          PW\n",
       "count  143.000000  144.000000  144.000000  150.000000\n",
       "mean     5.855944    3.049306    3.756250    1.198667\n",
       "std      0.828168    0.430644    1.761306    0.763161\n",
       "min      4.300000    2.000000    1.000000    0.100000\n",
       "25%      5.100000    2.800000    1.600000    0.300000\n",
       "50%      5.800000    3.000000    4.350000    1.300000\n",
       "75%      6.400000    3.300000    5.100000    1.800000\n",
       "max      7.900000    4.400000    6.900000    2.500000"
      ]
     },
     "execution_count": 6,
     "metadata": {},
     "output_type": "execute_result"
    }
   ],
   "source": [
    "df.describe()"
   ]
  },
  {
   "cell_type": "code",
   "execution_count": 7,
   "id": "84fa4f2d",
   "metadata": {},
   "outputs": [
    {
     "data": {
      "text/html": [
       "<div>\n",
       "<style scoped>\n",
       "    .dataframe tbody tr th:only-of-type {\n",
       "        vertical-align: middle;\n",
       "    }\n",
       "\n",
       "    .dataframe tbody tr th {\n",
       "        vertical-align: top;\n",
       "    }\n",
       "\n",
       "    .dataframe thead th {\n",
       "        text-align: right;\n",
       "    }\n",
       "</style>\n",
       "<table border=\"1\" class=\"dataframe\">\n",
       "  <thead>\n",
       "    <tr style=\"text-align: right;\">\n",
       "      <th></th>\n",
       "      <th>Classification</th>\n",
       "    </tr>\n",
       "  </thead>\n",
       "  <tbody>\n",
       "    <tr>\n",
       "      <th>count</th>\n",
       "      <td>150</td>\n",
       "    </tr>\n",
       "    <tr>\n",
       "      <th>unique</th>\n",
       "      <td>3</td>\n",
       "    </tr>\n",
       "    <tr>\n",
       "      <th>top</th>\n",
       "      <td>Iris-setosa</td>\n",
       "    </tr>\n",
       "    <tr>\n",
       "      <th>freq</th>\n",
       "      <td>50</td>\n",
       "    </tr>\n",
       "  </tbody>\n",
       "</table>\n",
       "</div>"
      ],
      "text/plain": [
       "       Classification\n",
       "count             150\n",
       "unique              3\n",
       "top       Iris-setosa\n",
       "freq               50"
      ]
     },
     "execution_count": 7,
     "metadata": {},
     "output_type": "execute_result"
    }
   ],
   "source": [
    "df.describe(include = 'object')"
   ]
  },
  {
   "cell_type": "code",
   "execution_count": 8,
   "id": "dab071f8",
   "metadata": {},
   "outputs": [
    {
     "data": {
      "text/plain": [
       "SL                7\n",
       "SW                6\n",
       "PL                6\n",
       "PW                0\n",
       "Classification    0\n",
       "dtype: int64"
      ]
     },
     "execution_count": 8,
     "metadata": {},
     "output_type": "execute_result"
    }
   ],
   "source": [
    "df.isna().sum()"
   ]
  },
  {
   "cell_type": "code",
   "execution_count": 9,
   "id": "e405eaba",
   "metadata": {},
   "outputs": [
    {
     "data": {
      "text/plain": [
       "SL                0.05\n",
       "SW                0.04\n",
       "PL                0.04\n",
       "PW                0.00\n",
       "Classification    0.00\n",
       "dtype: float64"
      ]
     },
     "execution_count": 9,
     "metadata": {},
     "output_type": "execute_result"
    }
   ],
   "source": [
    "round(df.isna().sum()/len(df),2).sort_values(ascending = False)"
   ]
  },
  {
   "cell_type": "code",
   "execution_count": 10,
   "id": "40e89f05",
   "metadata": {},
   "outputs": [
    {
     "data": {
      "text/plain": [
       "Index(['SL', 'SW', 'PL', 'PW', 'Classification'], dtype='object')"
      ]
     },
     "execution_count": 10,
     "metadata": {},
     "output_type": "execute_result"
    }
   ],
   "source": [
    "df.columns"
   ]
  },
  {
   "cell_type": "code",
   "execution_count": 11,
   "id": "1363b9b9",
   "metadata": {},
   "outputs": [],
   "source": [
    "col = ['SL', 'SW', 'PL']"
   ]
  },
  {
   "cell_type": "code",
   "execution_count": 12,
   "id": "897b15d5",
   "metadata": {},
   "outputs": [
    {
     "data": {
      "image/png": "[encoded data removed]",
      "text/plain": [
       "<Figure size 640x480 with 1 Axes>"
      ]
     },
     "metadata": {},
     "output_type": "display_data"
    },
    {
     "data": {
      "image/png": "[encoded data removed]",
      "text/plain": [
       "<Figure size 640x480 with 1 Axes>"
      ]
     },
     "metadata": {},
     "output_type": "display_data"
    },
    {
     "data": {
      "image/png": "[encoded data removed]",
      "text/plain": [
       "<Figure size 640x480 with 1 Axes>"
      ]
     },
     "metadata": {},
     "output_type": "display_data"
    }
   ],
   "source": [
    "for i in col:\n",
    "    df[i].hist()\n",
    "    plt.show()"
   ]
  },
  {
   "cell_type": "markdown",
   "id": "b374df20",
   "metadata": {},
   "source": [
    "### Handling missing values"
   ]
  },
  {
   "cell_type": "code",
   "execution_count": 13,
   "id": "814636d8",
   "metadata": {},
   "outputs": [],
   "source": [
    "for i in ['SL',\"SW\"] :\n",
    "    df[i] = df[i].fillna(df[i].mean())"
   ]
  },
  {
   "cell_type": "code",
   "execution_count": 14,
   "id": "186824ae",
   "metadata": {},
   "outputs": [],
   "source": [
    "df['PL'] = df['PL'].fillna(df[i].median())"
   ]
  },
  {
   "cell_type": "code",
   "execution_count": 15,
   "id": "c00a508a",
   "metadata": {
    "scrolled": true
   },
   "outputs": [
    {
     "data": {
      "text/plain": [
       "SL                0\n",
       "SW                0\n",
       "PL                0\n",
       "PW                0\n",
       "Classification    0\n",
       "dtype: int64"
      ]
     },
     "execution_count": 15,
     "metadata": {},
     "output_type": "execute_result"
    }
   ],
   "source": [
    "df.isna().sum()"
   ]
  },
  {
   "cell_type": "code",
   "execution_count": 16,
   "id": "9992709b",
   "metadata": {},
   "outputs": [
    {
     "data": {
      "text/plain": [
       "43"
      ]
     },
     "execution_count": 16,
     "metadata": {},
     "output_type": "execute_result"
    }
   ],
   "source": [
    "df.PL.nunique()"
   ]
  },
  {
   "cell_type": "code",
   "execution_count": 17,
   "id": "42e5f8a8",
   "metadata": {
    "scrolled": true
   },
   "outputs": [
    {
     "data": {
      "text/plain": [
       "3"
      ]
     },
     "execution_count": 17,
     "metadata": {},
     "output_type": "execute_result"
    }
   ],
   "source": [
    "df.Classification.nunique()"
   ]
  },
  {
   "cell_type": "markdown",
   "id": "b9a68ca6",
   "metadata": {},
   "source": [
    "### Handling outliers"
   ]
  },
  {
   "cell_type": "code",
   "execution_count": 18,
   "id": "058b6501",
   "metadata": {},
   "outputs": [
    {
     "data": {
      "image/png": "[encoded data removed]",
      "text/plain": [
       "<Figure size 640x480 with 1 Axes>"
      ]
     },
     "metadata": {},
     "output_type": "display_data"
    },
    {
     "data": {
      "image/png": "[encoded data removed]",
      "text/plain": [
       "<Figure size 640x480 with 1 Axes>"
      ]
     },
     "metadata": {},
     "output_type": "display_data"
    },
    {
     "data": {
      "image/png": "[encoded data removed]",
      "text/plain": [
       "<Figure size 640x480 with 1 Axes>"
      ]
     },
     "metadata": {},
     "output_type": "display_data"
    }
   ],
   "source": [
    "for i in col:\n",
    "    df[i].plot.box()\n",
    "    plt.show()"
   ]
  },
  {
   "cell_type": "code",
   "execution_count": 19,
   "id": "05c9d75c",
   "metadata": {},
   "outputs": [],
   "source": [
    "Q1 = np.percentile(df['SW'],25)"
   ]
  },
  {
   "cell_type": "code",
   "execution_count": 20,
   "id": "a105ef34",
   "metadata": {},
   "outputs": [],
   "source": [
    "Q3 = np.percentile(df['SW'],75)"
   ]
  },
  {
   "cell_type": "code",
   "execution_count": 21,
   "id": "d23f8f79",
   "metadata": {},
   "outputs": [],
   "source": [
    "IQR = Q3-Q1"
   ]
  },
  {
   "cell_type": "code",
   "execution_count": 22,
   "id": "1553913d",
   "metadata": {},
   "outputs": [],
   "source": [
    "low_limit = Q1 - 1.5 * IQR\n",
    "upr_limit = Q3 + 1.5 * IQR"
   ]
  },
  {
   "cell_type": "code",
   "execution_count": 23,
   "id": "fbf12a92",
   "metadata": {},
   "outputs": [
    {
     "data": {
      "text/plain": [
       "2.0874999999999995"
      ]
     },
     "execution_count": 23,
     "metadata": {},
     "output_type": "execute_result"
    }
   ],
   "source": [
    "low_limit"
   ]
  },
  {
   "cell_type": "code",
   "execution_count": 24,
   "id": "00f97960",
   "metadata": {},
   "outputs": [
    {
     "data": {
      "text/plain": [
       "3.9875"
      ]
     },
     "execution_count": 24,
     "metadata": {},
     "output_type": "execute_result"
    }
   ],
   "source": [
    "upr_limit"
   ]
  },
  {
   "cell_type": "code",
   "execution_count": 25,
   "id": "5cade27f",
   "metadata": {},
   "outputs": [],
   "source": [
    "outlier = []\n",
    "for x in df['SW']:\n",
    "    if x>upr_limit or x<low_limit:\n",
    "        outlier.append(x)"
   ]
  },
  {
   "cell_type": "code",
   "execution_count": 26,
   "id": "31a78400",
   "metadata": {},
   "outputs": [
    {
     "data": {
      "text/plain": [
       "[4.0, 4.4, 4.1, 4.2, 2.0]"
      ]
     },
     "execution_count": 26,
     "metadata": {},
     "output_type": "execute_result"
    }
   ],
   "source": [
    "outlier"
   ]
  },
  {
   "cell_type": "code",
   "execution_count": 27,
   "id": "1ae055e6",
   "metadata": {},
   "outputs": [
    {
     "data": {
      "text/plain": [
       "Int64Index([14, 15, 32, 33], dtype='int64')"
      ]
     },
     "execution_count": 27,
     "metadata": {},
     "output_type": "execute_result"
    }
   ],
   "source": [
    "ind = df['SW']>upr_limit \n",
    "df.loc[ind].index"
   ]
  },
  {
   "cell_type": "code",
   "execution_count": 28,
   "id": "4c7a04c8",
   "metadata": {},
   "outputs": [
    {
     "data": {
      "text/plain": [
       "Int64Index([60], dtype='int64')"
      ]
     },
     "execution_count": 28,
     "metadata": {},
     "output_type": "execute_result"
    }
   ],
   "source": [
    "ind1 = df['SW']<low_limit\n",
    "df.loc[ind1].index"
   ]
  },
  {
   "cell_type": "code",
   "execution_count": 29,
   "id": "f762ba3d",
   "metadata": {},
   "outputs": [],
   "source": [
    "df.drop([14, 15, 32, 33,60],inplace = True)"
   ]
  },
  {
   "cell_type": "code",
   "execution_count": 30,
   "id": "270db41a",
   "metadata": {},
   "outputs": [
    {
     "data": {
      "text/plain": [
       "(145, 5)"
      ]
     },
     "execution_count": 30,
     "metadata": {},
     "output_type": "execute_result"
    }
   ],
   "source": [
    "df.shape"
   ]
  },
  {
   "cell_type": "markdown",
   "id": "0317abe5",
   "metadata": {},
   "source": [
    "## Label Encoding"
   ]
  },
  {
   "cell_type": "code",
   "execution_count": 31,
   "id": "b2fb0c6d",
   "metadata": {},
   "outputs": [],
   "source": [
    "from sklearn.preprocessing import LabelEncoder\n",
    "le = LabelEncoder()\n",
    "df['Classification'] = le.fit_transform(df['Classification'])"
   ]
  },
  {
   "cell_type": "code",
   "execution_count": 32,
   "id": "cb0ec3fc",
   "metadata": {},
   "outputs": [
    {
     "data": {
      "text/html": [
       "<div>\n",
       "<style scoped>\n",
       "    .dataframe tbody tr th:only-of-type {\n",
       "        vertical-align: middle;\n",
       "    }\n",
       "\n",
       "    .dataframe tbody tr th {\n",
       "        vertical-align: top;\n",
       "    }\n",
       "\n",
       "    .dataframe thead th {\n",
       "        text-align: right;\n",
       "    }\n",
       "</style>\n",
       "<table border=\"1\" class=\"dataframe\">\n",
       "  <thead>\n",
       "    <tr style=\"text-align: right;\">\n",
       "      <th></th>\n",
       "      <th>SL</th>\n",
       "      <th>SW</th>\n",
       "      <th>PL</th>\n",
       "      <th>PW</th>\n",
       "      <th>Classification</th>\n",
       "    </tr>\n",
       "  </thead>\n",
       "  <tbody>\n",
       "    <tr>\n",
       "      <th>0</th>\n",
       "      <td>5.100000</td>\n",
       "      <td>3.5</td>\n",
       "      <td>1.4</td>\n",
       "      <td>0.2</td>\n",
       "      <td>0</td>\n",
       "    </tr>\n",
       "    <tr>\n",
       "      <th>1</th>\n",
       "      <td>4.900000</td>\n",
       "      <td>3.0</td>\n",
       "      <td>1.4</td>\n",
       "      <td>0.2</td>\n",
       "      <td>0</td>\n",
       "    </tr>\n",
       "    <tr>\n",
       "      <th>2</th>\n",
       "      <td>5.855944</td>\n",
       "      <td>3.2</td>\n",
       "      <td>1.3</td>\n",
       "      <td>0.2</td>\n",
       "      <td>0</td>\n",
       "    </tr>\n",
       "    <tr>\n",
       "      <th>3</th>\n",
       "      <td>4.600000</td>\n",
       "      <td>3.1</td>\n",
       "      <td>1.5</td>\n",
       "      <td>0.2</td>\n",
       "      <td>0</td>\n",
       "    </tr>\n",
       "    <tr>\n",
       "      <th>4</th>\n",
       "      <td>5.000000</td>\n",
       "      <td>3.6</td>\n",
       "      <td>1.4</td>\n",
       "      <td>0.2</td>\n",
       "      <td>0</td>\n",
       "    </tr>\n",
       "  </tbody>\n",
       "</table>\n",
       "</div>"
      ],
      "text/plain": [
       "         SL   SW   PL   PW  Classification\n",
       "0  5.100000  3.5  1.4  0.2               0\n",
       "1  4.900000  3.0  1.4  0.2               0\n",
       "2  5.855944  3.2  1.3  0.2               0\n",
       "3  4.600000  3.1  1.5  0.2               0\n",
       "4  5.000000  3.6  1.4  0.2               0"
      ]
     },
     "execution_count": 32,
     "metadata": {},
     "output_type": "execute_result"
    }
   ],
   "source": [
    "df.head()"
   ]
  },
  {
   "cell_type": "code",
   "execution_count": 33,
   "id": "3716dbda",
   "metadata": {},
   "outputs": [
    {
     "data": {
      "text/plain": [
       "array([0, 1, 2])"
      ]
     },
     "execution_count": 33,
     "metadata": {},
     "output_type": "execute_result"
    }
   ],
   "source": [
    "df.Classification.unique()"
   ]
  },
  {
   "cell_type": "markdown",
   "id": "9fc98009",
   "metadata": {},
   "source": [
    "### Correlation"
   ]
  },
  {
   "cell_type": "code",
   "execution_count": 34,
   "id": "fad224e0",
   "metadata": {},
   "outputs": [],
   "source": [
    "corr_matrix = df.corr()"
   ]
  },
  {
   "cell_type": "code",
   "execution_count": 35,
   "id": "c40d8aa2",
   "metadata": {},
   "outputs": [
    {
     "data": {
      "image/png": "[encoded data removed]",
      "text/plain": [
       "<Figure size 640x480 with 2 Axes>"
      ]
     },
     "metadata": {},
     "output_type": "display_data"
    }
   ],
   "source": [
    "sns.heatmap(corr_matrix,annot = True, cmap = 'YlGnBu')\n",
    "plt.show()"
   ]
  },
  {
   "cell_type": "code",
   "execution_count": 36,
   "id": "cfffcc44",
   "metadata": {},
   "outputs": [],
   "source": [
    "df = df.drop('PL',axis =1)"
   ]
  },
  {
   "cell_type": "markdown",
   "id": "8a8e35d1",
   "metadata": {},
   "source": [
    "## Scaling"
   ]
  },
  {
   "cell_type": "code",
   "execution_count": 37,
   "id": "810c956f",
   "metadata": {},
   "outputs": [],
   "source": [
    "x = df.drop('Classification',axis =1)"
   ]
  },
  {
   "cell_type": "code",
   "execution_count": 38,
   "id": "d9dfed71",
   "metadata": {},
   "outputs": [],
   "source": [
    "y = df['Classification']"
   ]
  },
  {
   "cell_type": "code",
   "execution_count": 39,
   "id": "d49293bc",
   "metadata": {},
   "outputs": [],
   "source": [
    "from sklearn.preprocessing import StandardScaler\n",
    "std_scaler = StandardScaler()\n",
    "x = std_scaler.fit_transform(x)"
   ]
  },
  {
   "cell_type": "code",
   "execution_count": 40,
   "id": "c7b7e64b",
   "metadata": {},
   "outputs": [
    {
     "data": {
      "text/plain": [
       "array([[-0.94645043,  1.27193821, -1.35904738],\n",
       "       [-1.19219013, -0.06832248, -1.35904738],\n",
       "       [-0.0176231 ,  0.46778179, -1.35904738],\n",
       "       [-1.56079968,  0.19972965, -1.35904738],\n",
       "       [-1.06932028,  1.53999035, -1.35904738],\n",
       "       [-0.57784088,  2.34414677, -1.09435716],\n",
       "       [-1.56079968,  1.00388607, -1.22670227],\n",
       "       [-1.06932028,  1.00388607, -1.35904738],\n",
       "       [-1.80653938, -0.33637462, -1.35904738],\n",
       "       [-1.19219013,  0.19972965, -1.49139249],\n",
       "       [-0.57784088,  0.06384211, -1.35904738],\n",
       "       [-1.31505998,  1.00388607, -1.35904738],\n",
       "       [-1.31505998, -0.06832248, -1.49139249],\n",
       "       [-1.92940923, -0.06832248, -1.49139249],\n",
       "       [-0.57784088,  2.34414677, -1.09435716],\n",
       "       [-0.94645043,  1.27193821, -1.22670227],\n",
       "       [-0.20923133,  2.07609463, -1.22670227],\n",
       "       [-0.94645043,  2.07609463, -1.22670227],\n",
       "       [-0.57784088,  1.00388607, -1.35904738],\n",
       "       [-0.0176231 ,  1.80804249, -1.09435716],\n",
       "       [-1.56079968,  1.53999035, -1.35904738],\n",
       "       [-0.94645043,  0.73583393, -0.96201205],\n",
       "       [-1.31505998,  1.00388607, -1.35904738],\n",
       "       [-1.06932028, -0.06832248, -1.35904738],\n",
       "       [-1.06932028,  1.00388607, -1.09435716],\n",
       "       [-0.82358058,  0.06384211, -1.35904738],\n",
       "       [-0.82358058,  1.00388607, -1.35904738],\n",
       "       [-1.43792983,  0.46778179, -1.35904738],\n",
       "       [-1.31505998,  0.19972965, -1.35904738],\n",
       "       [-0.57784088,  1.00388607, -1.09435716],\n",
       "       [-1.19219013,  0.19972965, -1.49139249],\n",
       "       [-1.06932028,  0.46778179, -1.35904738],\n",
       "       [-0.45497103,  1.27193821, -1.35904738],\n",
       "       [-1.19219013,  0.19972965, -1.49139249],\n",
       "       [-1.80653938, -0.06832248, -1.35904738],\n",
       "       [-0.0176231 ,  1.00388607, -1.35904738],\n",
       "       [-1.06932028,  1.27193821, -1.22670227],\n",
       "       [-1.68366953, -1.94468746, -1.22670227],\n",
       "       [-1.80653938,  0.46778179, -1.35904738],\n",
       "       [-1.06932028,  0.06384211, -0.82966694],\n",
       "       [-0.94645043,  2.07609463, -1.09435716],\n",
       "       [-1.31505998, -0.06832248, -1.22670227],\n",
       "       [-0.94645043,  2.07609463, -1.35904738],\n",
       "       [-1.56079968,  0.46778179, -1.35904738],\n",
       "       [-0.70071073,  1.80804249, -1.35904738],\n",
       "       [-1.06932028,  0.73583393, -1.35904738],\n",
       "       [ 1.38807673,  0.46778179,  0.22909395],\n",
       "       [-0.0176231 ,  0.46778179,  0.36143906],\n",
       "       [ 1.26520688,  0.19972965,  0.36143906],\n",
       "       [-0.45497103, -1.94468746,  0.09674884],\n",
       "       [ 0.77372748, -0.60442676,  0.36143906],\n",
       "       [-0.20923133, -0.60442676,  0.09674884],\n",
       "       [ 0.52798778,  0.73583393,  0.49378417],\n",
       "       [-1.19219013, -1.67663532, -0.30028649],\n",
       "       [ 0.89659733, -0.33637462,  0.09674884],\n",
       "       [-0.82358058, -0.8724789 ,  0.22909395],\n",
       "       [ 0.03650837, -0.06832248,  0.36143906],\n",
       "       [ 0.15937823, -2.2127396 , -0.30028649],\n",
       "       [ 0.28224808, -0.33637462,  0.22909395],\n",
       "       [-0.33210118, -0.33637462,  0.09674884],\n",
       "       [ 1.01946718,  0.19972965,  0.22909395],\n",
       "       [-0.33210118, -0.06832248,  0.36143906],\n",
       "       [-0.08636148, -0.8724789 , -0.30028649],\n",
       "       [ 0.40511793, -2.2127396 ,  0.36143906],\n",
       "       [-0.33210118, -1.40858318, -0.16794138],\n",
       "       [ 0.03650837,  0.46778179,  0.7584744 ],\n",
       "       [ 0.28224808, -0.60442676,  0.09674884],\n",
       "       [ 0.52798778,  0.06384211,  0.36143906],\n",
       "       [ 0.28224808, -0.60442676, -0.03559627],\n",
       "       [ 0.65085763, -0.33637462,  0.09674884],\n",
       "       [ 0.89659733, -0.06832248,  0.22909395],\n",
       "       [ 1.14233703, -0.60442676,  0.22909395],\n",
       "       [ 1.01946718, -0.06832248,  0.62612928],\n",
       "       [ 0.15937823, -0.33637462,  0.36143906],\n",
       "       [-0.20923133, -1.14053104, -0.30028649],\n",
       "       [-0.45497103, -1.67663532, -0.16794138],\n",
       "       [-0.45497103, -1.67663532, -0.30028649],\n",
       "       [-0.08636148, -0.8724789 , -0.03559627],\n",
       "       [ 0.15937823, -0.8724789 ,  0.49378417],\n",
       "       [-0.57784088, -0.06832248,  0.36143906],\n",
       "       [-0.0176231 ,  1.00388607,  0.49378417],\n",
       "       [ 1.01946718,  0.19972965,  0.36143906],\n",
       "       [ 0.52798778, -1.94468746,  0.09674884],\n",
       "       [-0.33210118, -0.06832248,  0.09674884],\n",
       "       [-0.45497103, -1.40858318,  0.09674884],\n",
       "       [-0.45497103, -1.14053104, -0.03559627],\n",
       "       [ 0.28224808, -0.06832248,  0.22909395],\n",
       "       [-0.08636148, -1.14053104, -0.03559627],\n",
       "       [-1.06932028, -1.94468746, -0.30028649],\n",
       "       [-0.33210118, -0.8724789 ,  0.09674884],\n",
       "       [-0.20923133, -0.06832248, -0.03559627],\n",
       "       [-0.20923133, -0.33637462,  0.09674884],\n",
       "       [ 0.40511793, -0.33637462,  0.09674884],\n",
       "       [-0.94645043,  0.06384211, -0.16794138],\n",
       "       [-0.20923133, -0.60442676,  0.09674884],\n",
       "       [ 0.52798778,  0.73583393,  1.68489017],\n",
       "       [-0.08636148, -0.8724789 ,  0.89081951],\n",
       "       [ 1.51094658, -0.06832248,  1.15550973],\n",
       "       [ 0.52798778, -0.33637462,  0.7584744 ],\n",
       "       [ 0.77372748, -0.06832248,  1.28785484],\n",
       "       [ 2.12529583, -0.06832248,  1.15550973],\n",
       "       [-0.0176231 , -1.40858318,  0.62612928],\n",
       "       [ 1.75668628, -0.33637462,  0.7584744 ],\n",
       "       [ 1.01946718, -1.40858318,  0.7584744 ],\n",
       "       [ 1.63381643,  1.53999035,  1.68489017],\n",
       "       [ 0.77372748,  0.46778179,  1.02316462],\n",
       "       [ 0.65085763, -0.8724789 ,  0.89081951],\n",
       "       [ 1.14233703, -0.06832248,  1.15550973],\n",
       "       [-0.20923133, -1.40858318,  1.02316462],\n",
       "       [-0.08636148, -0.60442676,  1.55254506],\n",
       "       [ 0.65085763,  0.46778179,  1.42019995],\n",
       "       [ 0.77372748, -0.06832248,  0.7584744 ],\n",
       "       [ 2.24816568,  2.07609463,  1.28785484],\n",
       "       [ 2.24816568, -1.14053104,  1.42019995],\n",
       "       [ 0.15937823, -2.2127396 ,  0.36143906],\n",
       "       [ 1.26520688,  0.46778179,  1.42019995],\n",
       "       [-0.33210118, -0.60442676,  1.02316462],\n",
       "       [ 2.24816568, -0.60442676,  1.02316462],\n",
       "       [ 0.52798778, -0.8724789 ,  0.7584744 ],\n",
       "       [ 1.01946718,  0.06384211,  1.15550973],\n",
       "       [ 1.63381643,  0.46778179,  0.7584744 ],\n",
       "       [ 0.40511793, -0.60442676,  0.7584744 ],\n",
       "       [ 0.28224808, -0.06832248,  0.7584744 ],\n",
       "       [ 0.65085763, -0.60442676,  1.15550973],\n",
       "       [ 1.63381643, -0.06832248,  0.49378417],\n",
       "       [ 1.87955613, -0.60442676,  0.89081951],\n",
       "       [ 2.49390538,  2.07609463,  1.02316462],\n",
       "       [ 0.65085763, -0.60442676,  1.28785484],\n",
       "       [ 0.52798778, -0.60442676,  0.36143906],\n",
       "       [ 0.28224808, -1.14053104,  0.22909395],\n",
       "       [ 2.24816568, -0.06832248,  1.42019995],\n",
       "       [ 0.52798778,  1.00388607,  1.55254506],\n",
       "       [ 0.65085763,  0.19972965,  0.7584744 ],\n",
       "       [ 0.15937823, -0.06832248,  0.7584744 ],\n",
       "       [ 1.26520688,  0.19972965,  1.15550973],\n",
       "       [ 1.01946718,  0.19972965,  1.55254506],\n",
       "       [-0.0176231 ,  0.19972965,  1.42019995],\n",
       "       [-0.08636148, -0.8724789 ,  0.89081951],\n",
       "       [ 1.14233703,  0.46778179,  1.42019995],\n",
       "       [ 1.01946718,  0.73583393,  1.68489017],\n",
       "       [ 1.01946718, -0.06832248,  1.42019995],\n",
       "       [ 0.52798778, -1.40858318,  0.89081951],\n",
       "       [ 0.77372748, -0.06832248,  1.02316462],\n",
       "       [ 0.40511793,  1.00388607,  1.42019995],\n",
       "       [ 0.03650837, -0.06832248,  0.7584744 ]])"
      ]
     },
     "execution_count": 40,
     "metadata": {},
     "output_type": "execute_result"
    }
   ],
   "source": [
    "x"
   ]
  },
  {
   "cell_type": "code",
   "execution_count": 41,
   "id": "7ed105b5",
   "metadata": {},
   "outputs": [],
   "source": [
    "x = pd.DataFrame(x)"
   ]
  },
  {
   "cell_type": "markdown",
   "id": "37860dc4",
   "metadata": {},
   "source": [
    "# Classification Models"
   ]
  },
  {
   "cell_type": "markdown",
   "id": "7e49e1ee",
   "metadata": {},
   "source": [
    "## Logistic Regression"
   ]
  },
  {
   "cell_type": "code",
   "execution_count": 42,
   "id": "56cc1fe2",
   "metadata": {},
   "outputs": [],
   "source": [
    "from sklearn.model_selection import train_test_split\n",
    "x_train,x_test,y_train,y_test = train_test_split(x,y,test_size = 0.2,random_state = 42)"
   ]
  },
  {
   "cell_type": "code",
   "execution_count": 43,
   "id": "80a5c668",
   "metadata": {},
   "outputs": [],
   "source": [
    "from sklearn.linear_model import LogisticRegression\n",
    "lr = LogisticRegression()\n",
    "model = lr.fit(x_train,y_train)"
   ]
  },
  {
   "cell_type": "code",
   "execution_count": 44,
   "id": "656a1e27",
   "metadata": {},
   "outputs": [],
   "source": [
    "y_predict = model.predict(x_test)"
   ]
  },
  {
   "cell_type": "code",
   "execution_count": 45,
   "id": "0d116318",
   "metadata": {},
   "outputs": [],
   "source": [
    "from sklearn.metrics import confusion_matrix,accuracy_score,recall_score,precision_score,f1_score"
   ]
  },
  {
   "cell_type": "code",
   "execution_count": 46,
   "id": "09a68f44",
   "metadata": {},
   "outputs": [
    {
     "data": {
      "text/plain": [
       "array([[ 9,  0,  0],\n",
       "       [ 0,  9,  0],\n",
       "       [ 0,  1, 10]], dtype=int64)"
      ]
     },
     "execution_count": 46,
     "metadata": {},
     "output_type": "execute_result"
    }
   ],
   "source": [
    "confusion_matrix(y_test,y_predict)"
   ]
  },
  {
   "cell_type": "code",
   "execution_count": 47,
   "id": "1820acc2",
   "metadata": {},
   "outputs": [
    {
     "name": "stdout",
     "output_type": "stream",
     "text": [
      "Accuracy = 0.9655172413793104\n",
      "Precision = [1.  0.9 1. ]\n",
      "Recall = [1.         1.         0.90909091]\n",
      "F1 Score = [1.         0.94736842 0.95238095]\n"
     ]
    }
   ],
   "source": [
    "print('Accuracy =',accuracy_score(y_test,y_predict))\n",
    "print('Precision =',precision_score(y_test,y_predict,average = None))\n",
    "print('Recall =',recall_score(y_test,y_predict,average = None))\n",
    "print('F1 Score =',f1_score(y_test,y_predict,average = None))"
   ]
  },
  {
   "cell_type": "markdown",
   "id": "740bc92b",
   "metadata": {},
   "source": [
    "# KNN"
   ]
  },
  {
   "cell_type": "code",
   "execution_count": 48,
   "id": "667501bf",
   "metadata": {},
   "outputs": [],
   "source": [
    "from sklearn.neighbors import KNeighborsClassifier"
   ]
  },
  {
   "cell_type": "code",
   "execution_count": 49,
   "id": "c9f3b363",
   "metadata": {},
   "outputs": [],
   "source": [
    "metric_k = []\n",
    "neighbors = np.arange(3,15)"
   ]
  },
  {
   "cell_type": "code",
   "execution_count": 50,
   "id": "108cb9a5",
   "metadata": {},
   "outputs": [
    {
     "name": "stderr",
     "output_type": "stream",
     "text": [
      "C:\\Users\\ASUS\\anaconda3\\lib\\site-packages\\sklearn\\neighbors\\_classification.py:228: FutureWarning: Unlike other reduction functions (e.g. `skew`, `kurtosis`), the default behavior of `mode` typically preserves the axis it acts along. In SciPy 1.11.0, this behavior will change: the default value of `keepdims` will become False, the `axis` over which the statistic is taken will be eliminated, and the value None will no longer be accepted. Set `keepdims` to True or False to avoid this warning.\n",
      "  mode, _ = stats.mode(_y[neigh_ind, k], axis=1)\n",
      "C:\\Users\\ASUS\\anaconda3\\lib\\site-packages\\sklearn\\neighbors\\_classification.py:228: FutureWarning: Unlike other reduction functions (e.g. `skew`, `kurtosis`), the default behavior of `mode` typically preserves the axis it acts along. In SciPy 1.11.0, this behavior will change: the default value of `keepdims` will become False, the `axis` over which the statistic is taken will be eliminated, and the value None will no longer be accepted. Set `keepdims` to True or False to avoid this warning.\n",
      "  mode, _ = stats.mode(_y[neigh_ind, k], axis=1)\n",
      "C:\\Users\\ASUS\\anaconda3\\lib\\site-packages\\sklearn\\neighbors\\_classification.py:228: FutureWarning: Unlike other reduction functions (e.g. `skew`, `kurtosis`), the default behavior of `mode` typically preserves the axis it acts along. In SciPy 1.11.0, this behavior will change: the default value of `keepdims` will become False, the `axis` over which the statistic is taken will be eliminated, and the value None will no longer be accepted. Set `keepdims` to True or False to avoid this warning.\n",
      "  mode, _ = stats.mode(_y[neigh_ind, k], axis=1)\n",
      "C:\\Users\\ASUS\\anaconda3\\lib\\site-packages\\sklearn\\neighbors\\_classification.py:228: FutureWarning: Unlike other reduction functions (e.g. `skew`, `kurtosis`), the default behavior of `mode` typically preserves the axis it acts along. In SciPy 1.11.0, this behavior will change: the default value of `keepdims` will become False, the `axis` over which the statistic is taken will be eliminated, and the value None will no longer be accepted. Set `keepdims` to True or False to avoid this warning.\n",
      "  mode, _ = stats.mode(_y[neigh_ind, k], axis=1)\n",
      "C:\\Users\\ASUS\\anaconda3\\lib\\site-packages\\sklearn\\neighbors\\_classification.py:228: FutureWarning: Unlike other reduction functions (e.g. `skew`, `kurtosis`), the default behavior of `mode` typically preserves the axis it acts along. In SciPy 1.11.0, this behavior will change: the default value of `keepdims` will become False, the `axis` over which the statistic is taken will be eliminated, and the value None will no longer be accepted. Set `keepdims` to True or False to avoid this warning.\n",
      "  mode, _ = stats.mode(_y[neigh_ind, k], axis=1)\n",
      "C:\\Users\\ASUS\\anaconda3\\lib\\site-packages\\sklearn\\neighbors\\_classification.py:228: FutureWarning: Unlike other reduction functions (e.g. `skew`, `kurtosis`), the default behavior of `mode` typically preserves the axis it acts along. In SciPy 1.11.0, this behavior will change: the default value of `keepdims` will become False, the `axis` over which the statistic is taken will be eliminated, and the value None will no longer be accepted. Set `keepdims` to True or False to avoid this warning.\n",
      "  mode, _ = stats.mode(_y[neigh_ind, k], axis=1)\n",
      "C:\\Users\\ASUS\\anaconda3\\lib\\site-packages\\sklearn\\neighbors\\_classification.py:228: FutureWarning: Unlike other reduction functions (e.g. `skew`, `kurtosis`), the default behavior of `mode` typically preserves the axis it acts along. In SciPy 1.11.0, this behavior will change: the default value of `keepdims` will become False, the `axis` over which the statistic is taken will be eliminated, and the value None will no longer be accepted. Set `keepdims` to True or False to avoid this warning.\n",
      "  mode, _ = stats.mode(_y[neigh_ind, k], axis=1)\n",
      "C:\\Users\\ASUS\\anaconda3\\lib\\site-packages\\sklearn\\neighbors\\_classification.py:228: FutureWarning: Unlike other reduction functions (e.g. `skew`, `kurtosis`), the default behavior of `mode` typically preserves the axis it acts along. In SciPy 1.11.0, this behavior will change: the default value of `keepdims` will become False, the `axis` over which the statistic is taken will be eliminated, and the value None will no longer be accepted. Set `keepdims` to True or False to avoid this warning.\n",
      "  mode, _ = stats.mode(_y[neigh_ind, k], axis=1)\n",
      "C:\\Users\\ASUS\\anaconda3\\lib\\site-packages\\sklearn\\neighbors\\_classification.py:228: FutureWarning: Unlike other reduction functions (e.g. `skew`, `kurtosis`), the default behavior of `mode` typically preserves the axis it acts along. In SciPy 1.11.0, this behavior will change: the default value of `keepdims` will become False, the `axis` over which the statistic is taken will be eliminated, and the value None will no longer be accepted. Set `keepdims` to True or False to avoid this warning.\n",
      "  mode, _ = stats.mode(_y[neigh_ind, k], axis=1)\n",
      "C:\\Users\\ASUS\\anaconda3\\lib\\site-packages\\sklearn\\neighbors\\_classification.py:228: FutureWarning: Unlike other reduction functions (e.g. `skew`, `kurtosis`), the default behavior of `mode` typically preserves the axis it acts along. In SciPy 1.11.0, this behavior will change: the default value of `keepdims` will become False, the `axis` over which the statistic is taken will be eliminated, and the value None will no longer be accepted. Set `keepdims` to True or False to avoid this warning.\n",
      "  mode, _ = stats.mode(_y[neigh_ind, k], axis=1)\n",
      "C:\\Users\\ASUS\\anaconda3\\lib\\site-packages\\sklearn\\neighbors\\_classification.py:228: FutureWarning: Unlike other reduction functions (e.g. `skew`, `kurtosis`), the default behavior of `mode` typically preserves the axis it acts along. In SciPy 1.11.0, this behavior will change: the default value of `keepdims` will become False, the `axis` over which the statistic is taken will be eliminated, and the value None will no longer be accepted. Set `keepdims` to True or False to avoid this warning.\n",
      "  mode, _ = stats.mode(_y[neigh_ind, k], axis=1)\n",
      "C:\\Users\\ASUS\\anaconda3\\lib\\site-packages\\sklearn\\neighbors\\_classification.py:228: FutureWarning: Unlike other reduction functions (e.g. `skew`, `kurtosis`), the default behavior of `mode` typically preserves the axis it acts along. In SciPy 1.11.0, this behavior will change: the default value of `keepdims` will become False, the `axis` over which the statistic is taken will be eliminated, and the value None will no longer be accepted. Set `keepdims` to True or False to avoid this warning.\n",
      "  mode, _ = stats.mode(_y[neigh_ind, k], axis=1)\n"
     ]
    }
   ],
   "source": [
    "for k in neighbors:\n",
    "    classifier = KNeighborsClassifier(n_neighbors = k,metric ='euclidean')\n",
    "    classifier.fit(x_train,y_train)\n",
    "    y_predictions = classifier.predict(x_test)\n",
    "    acc = accuracy_score(y_test,y_predictions)\n",
    "    metric_k.append(acc)"
   ]
  },
  {
   "cell_type": "code",
   "execution_count": 51,
   "id": "1db62647",
   "metadata": {},
   "outputs": [
    {
     "data": {
      "text/plain": [
       "[0.9310344827586207,\n",
       " 0.9310344827586207,\n",
       " 0.9310344827586207,\n",
       " 0.896551724137931,\n",
       " 0.896551724137931,\n",
       " 0.896551724137931,\n",
       " 0.9310344827586207,\n",
       " 0.8620689655172413,\n",
       " 0.896551724137931,\n",
       " 0.896551724137931,\n",
       " 0.896551724137931,\n",
       " 0.9310344827586207]"
      ]
     },
     "execution_count": 51,
     "metadata": {},
     "output_type": "execute_result"
    }
   ],
   "source": [
    "metric_k"
   ]
  },
  {
   "cell_type": "code",
   "execution_count": 52,
   "id": "e75cbd6d",
   "metadata": {},
   "outputs": [
    {
     "data": {
      "text/plain": [
       "Text(0, 0.5, 'Accuracy')"
      ]
     },
     "execution_count": 52,
     "metadata": {},
     "output_type": "execute_result"
    },
    {
     "data": {
      "image/png": "[encoded data removed]",
      "text/plain": [
       "<Figure size 640x480 with 1 Axes>"
      ]
     },
     "metadata": {},
     "output_type": "display_data"
    }
   ],
   "source": [
    "plt.plot(neighbors,metric_k,'o-')\n",
    "plt.xlabel('k')\n",
    "plt.ylabel('Accuracy')"
   ]
  },
  {
   "cell_type": "code",
   "execution_count": 53,
   "id": "12e4e599",
   "metadata": {},
   "outputs": [
    {
     "name": "stderr",
     "output_type": "stream",
     "text": [
      "C:\\Users\\ASUS\\anaconda3\\lib\\site-packages\\sklearn\\neighbors\\_classification.py:228: FutureWarning: Unlike other reduction functions (e.g. `skew`, `kurtosis`), the default behavior of `mode` typically preserves the axis it acts along. In SciPy 1.11.0, this behavior will change: the default value of `keepdims` will become False, the `axis` over which the statistic is taken will be eliminated, and the value None will no longer be accepted. Set `keepdims` to True or False to avoid this warning.\n",
      "  mode, _ = stats.mode(_y[neigh_ind, k], axis=1)\n"
     ]
    }
   ],
   "source": [
    "classifier = KNeighborsClassifier(n_neighbors = 3,metric ='euclidean')\n",
    "classifier.fit(x_train,y_train)\n",
    "y_predictions = classifier.predict(x_test)"
   ]
  },
  {
   "cell_type": "code",
   "execution_count": 54,
   "id": "4277bb7a",
   "metadata": {},
   "outputs": [
    {
     "name": "stdout",
     "output_type": "stream",
     "text": [
      "Accuracy = 0.9310344827586207\n",
      "Precision = [1.         0.88888889 0.90909091]\n",
      "Recall = [1.         0.88888889 0.90909091]\n",
      "F1 Score = [1.         0.88888889 0.90909091]\n"
     ]
    },
    {
     "data": {
      "text/plain": [
       "array([[ 9,  0,  0],\n",
       "       [ 0,  8,  1],\n",
       "       [ 0,  1, 10]], dtype=int64)"
      ]
     },
     "execution_count": 54,
     "metadata": {},
     "output_type": "execute_result"
    }
   ],
   "source": [
    "print('Accuracy =',accuracy_score(y_test,y_predictions))\n",
    "print('Precision =',precision_score(y_test,y_predictions,average = None))\n",
    "print('Recall =',recall_score(y_test,y_predictions,average = None))\n",
    "print('F1 Score =',f1_score(y_test,y_predictions,average = None))\n",
    "confusion_matrix(y_test,y_predictions)"
   ]
  },
  {
   "cell_type": "code",
   "execution_count": 55,
   "id": "3f8305ac",
   "metadata": {
    "scrolled": true
   },
   "outputs": [
    {
     "name": "stderr",
     "output_type": "stream",
     "text": [
      "C:\\Users\\ASUS\\anaconda3\\lib\\site-packages\\sklearn\\neighbors\\_classification.py:228: FutureWarning: Unlike other reduction functions (e.g. `skew`, `kurtosis`), the default behavior of `mode` typically preserves the axis it acts along. In SciPy 1.11.0, this behavior will change: the default value of `keepdims` will become False, the `axis` over which the statistic is taken will be eliminated, and the value None will no longer be accepted. Set `keepdims` to True or False to avoid this warning.\n",
      "  mode, _ = stats.mode(_y[neigh_ind, k], axis=1)\n"
     ]
    }
   ],
   "source": [
    "classifier = KNeighborsClassifier(n_neighbors = 4,metric ='euclidean')\n",
    "classifier.fit(x_train,y_train)\n",
    "y_predictions = classifier.predict(x_test)"
   ]
  },
  {
   "cell_type": "code",
   "execution_count": 56,
   "id": "0e3e6732",
   "metadata": {},
   "outputs": [
    {
     "name": "stdout",
     "output_type": "stream",
     "text": [
      "Accuracy = 0.9310344827586207\n",
      "Precision = [1.         0.88888889 0.90909091]\n",
      "Recall = [1.         0.88888889 0.90909091]\n",
      "F1 Score = [1.         0.88888889 0.90909091]\n"
     ]
    },
    {
     "data": {
      "text/plain": [
       "array([[ 9,  0,  0],\n",
       "       [ 0,  8,  1],\n",
       "       [ 0,  1, 10]], dtype=int64)"
      ]
     },
     "execution_count": 56,
     "metadata": {},
     "output_type": "execute_result"
    }
   ],
   "source": [
    "print('Accuracy =',accuracy_score(y_test,y_predictions))\n",
    "print('Precision =',precision_score(y_test,y_predictions,average = None))\n",
    "print('Recall =',recall_score(y_test,y_predictions,average = None))\n",
    "print('F1 Score =',f1_score(y_test,y_predictions,average = None))\n",
    "confusion_matrix(y_test,y_predictions)"
   ]
  },
  {
   "cell_type": "code",
   "execution_count": 57,
   "id": "bb06e5dd",
   "metadata": {},
   "outputs": [
    {
     "name": "stderr",
     "output_type": "stream",
     "text": [
      "C:\\Users\\ASUS\\anaconda3\\lib\\site-packages\\sklearn\\neighbors\\_classification.py:228: FutureWarning: Unlike other reduction functions (e.g. `skew`, `kurtosis`), the default behavior of `mode` typically preserves the axis it acts along. In SciPy 1.11.0, this behavior will change: the default value of `keepdims` will become False, the `axis` over which the statistic is taken will be eliminated, and the value None will no longer be accepted. Set `keepdims` to True or False to avoid this warning.\n",
      "  mode, _ = stats.mode(_y[neigh_ind, k], axis=1)\n"
     ]
    }
   ],
   "source": [
    "classifier = KNeighborsClassifier(n_neighbors = 14,metric ='euclidean')\n",
    "classifier.fit(x_train,y_train)\n",
    "y_predictions = classifier.predict(x_test)"
   ]
  },
  {
   "cell_type": "code",
   "execution_count": 58,
   "id": "d01449d9",
   "metadata": {},
   "outputs": [
    {
     "name": "stdout",
     "output_type": "stream",
     "text": [
      "Accuracy = 0.9310344827586207\n",
      "Precision = [1.         0.81818182 1.        ]\n",
      "Recall = [1.         1.         0.81818182]\n",
      "F1 Score = [1.  0.9 0.9]\n"
     ]
    },
    {
     "data": {
      "text/plain": [
       "array([[9, 0, 0],\n",
       "       [0, 9, 0],\n",
       "       [0, 2, 9]], dtype=int64)"
      ]
     },
     "execution_count": 58,
     "metadata": {},
     "output_type": "execute_result"
    }
   ],
   "source": [
    "print('Accuracy =',accuracy_score(y_test,y_predictions))\n",
    "print('Precision =',precision_score(y_test,y_predictions,average = None))\n",
    "print('Recall =',recall_score(y_test,y_predictions,average = None))\n",
    "print('F1 Score =',f1_score(y_test,y_predictions,average = None))\n",
    "confusion_matrix(y_test,y_predictions)"
   ]
  },
  {
   "cell_type": "markdown",
   "id": "1d628bd4",
   "metadata": {},
   "source": [
    "# SVM"
   ]
  },
  {
   "cell_type": "code",
   "execution_count": 59,
   "id": "5ea7048f",
   "metadata": {},
   "outputs": [
    {
     "data": {
      "text/plain": [
       "SVC(kernel='linear')"
      ]
     },
     "execution_count": 59,
     "metadata": {},
     "output_type": "execute_result"
    }
   ],
   "source": [
    "from sklearn.svm import SVC\n",
    "svmclf = SVC(kernel = 'linear')\n",
    "svmclf.fit(x_train,y_train)"
   ]
  },
  {
   "cell_type": "code",
   "execution_count": 60,
   "id": "fe59a6a2",
   "metadata": {},
   "outputs": [],
   "source": [
    "y_pred = svmclf.predict(x_test)"
   ]
  },
  {
   "cell_type": "code",
   "execution_count": 61,
   "id": "dd8f9c67",
   "metadata": {},
   "outputs": [
    {
     "name": "stdout",
     "output_type": "stream",
     "text": [
      "Accuracy is 0.9655172413793104\n",
      "Precision = [1.         0.81818182 1.        ]\n",
      "Recall = [1.         1.         0.81818182]\n",
      "F1 Score = [1.  0.9 0.9]\n"
     ]
    }
   ],
   "source": [
    "from sklearn.metrics import accuracy_score,confusion_matrix\n",
    "print('Accuracy is',accuracy_score(y_test,y_pred))\n",
    "print('Precision =',precision_score(y_test,y_predictions,average = None))\n",
    "print('Recall =',recall_score(y_test,y_predictions,average = None))\n",
    "print('F1 Score =',f1_score(y_test,y_predictions,average = None))"
   ]
  },
  {
   "cell_type": "code",
   "execution_count": 62,
   "id": "d026e4a2",
   "metadata": {},
   "outputs": [
    {
     "name": "stdout",
     "output_type": "stream",
     "text": [
      "[[ 9  0  0]\n",
      " [ 0  9  0]\n",
      " [ 0  1 10]]\n"
     ]
    }
   ],
   "source": [
    "print(confusion_matrix(y_test,y_pred))"
   ]
  },
  {
   "cell_type": "markdown",
   "id": "dc885ce5",
   "metadata": {},
   "source": [
    "# Decision Tree"
   ]
  },
  {
   "cell_type": "code",
   "execution_count": 63,
   "id": "363f3de8",
   "metadata": {},
   "outputs": [
    {
     "data": {
      "text/plain": [
       "DecisionTreeClassifier()"
      ]
     },
     "execution_count": 63,
     "metadata": {},
     "output_type": "execute_result"
    }
   ],
   "source": [
    "from sklearn.tree import DecisionTreeClassifier\n",
    "dt_clf =DecisionTreeClassifier()\n",
    "dt_clf.fit(x_train,y_train)"
   ]
  },
  {
   "cell_type": "code",
   "execution_count": 64,
   "id": "e738476e",
   "metadata": {},
   "outputs": [],
   "source": [
    "y_pred = dt_clf.predict(x_test)"
   ]
  },
  {
   "cell_type": "code",
   "execution_count": 65,
   "id": "4e2e966f",
   "metadata": {},
   "outputs": [
    {
     "name": "stdout",
     "output_type": "stream",
     "text": [
      "Accuracy is: 0.9310344827586207\n",
      "Precision = [1.         0.81818182 1.        ]\n",
      "Recall = [1.         1.         0.81818182]\n",
      "F1 Score = [1.  0.9 0.9]\n"
     ]
    }
   ],
   "source": [
    "print('Accuracy is:',accuracy_score(y_test,y_pred))\n",
    "print('Precision =',precision_score(y_test,y_predictions,average = None))\n",
    "print('Recall =',recall_score(y_test,y_predictions,average = None))\n",
    "print('F1 Score =',f1_score(y_test,y_predictions,average = None))"
   ]
  },
  {
   "cell_type": "code",
   "execution_count": 66,
   "id": "44d716e4",
   "metadata": {},
   "outputs": [
    {
     "name": "stdout",
     "output_type": "stream",
     "text": [
      "[[9 0 0]\n",
      " [0 9 0]\n",
      " [0 2 9]]\n"
     ]
    }
   ],
   "source": [
    "print(confusion_matrix(y_test,y_pred))"
   ]
  },
  {
   "cell_type": "markdown",
   "id": "cc644d8d",
   "metadata": {},
   "source": [
    "# Random Forest"
   ]
  },
  {
   "cell_type": "code",
   "execution_count": 67,
   "id": "6bf4695a",
   "metadata": {},
   "outputs": [
    {
     "data": {
      "text/plain": [
       "RandomForestClassifier()"
      ]
     },
     "execution_count": 67,
     "metadata": {},
     "output_type": "execute_result"
    }
   ],
   "source": [
    "from sklearn.ensemble import RandomForestClassifier\n",
    "rf_clf = RandomForestClassifier()\n",
    "rf_clf.fit(x_train,y_train)"
   ]
  },
  {
   "cell_type": "code",
   "execution_count": 68,
   "id": "f53ecdca",
   "metadata": {},
   "outputs": [],
   "source": [
    "y_pred = rf_clf.predict(x_test)"
   ]
  },
  {
   "cell_type": "code",
   "execution_count": 69,
   "id": "29d41b2f",
   "metadata": {},
   "outputs": [
    {
     "name": "stdout",
     "output_type": "stream",
     "text": [
      "Accuracy is: 0.9310344827586207\n",
      "Precision = [1.         0.81818182 1.        ]\n",
      "Recall = [1.         1.         0.81818182]\n",
      "F1 Score = [1.  0.9 0.9]\n"
     ]
    }
   ],
   "source": [
    "print('Accuracy is:',accuracy_score(y_test,y_pred))\n",
    "print('Precision =',precision_score(y_test,y_predictions,average = None))\n",
    "print('Recall =',recall_score(y_test,y_predictions,average = None))\n",
    "print('F1 Score =',f1_score(y_test,y_predictions,average = None))"
   ]
  },
  {
   "cell_type": "code",
   "execution_count": null,
   "id": "a661be8b",
   "metadata": {},
   "outputs": [],
   "source": []
  },
  {
   "cell_type": "code",
   "execution_count": 71,
   "id": "8108597d",
   "metadata": {},
   "outputs": [],
   "source": [
    "# Logistic regression and SVM models gives high accuracy values. SO they give the best result."
   ]
  },
  {
   "cell_type": "code",
   "execution_count": null,
   "id": "f1a0cb1a",
   "metadata": {},
   "outputs": [],
   "source": []
  }
 ],
 "metadata": {
  "kernelspec": {
   "display_name": "Python 3 (ipykernel)",
   "language": "python",
   "name": "python3"
  },
  "language_info": {
   "codemirror_mode": {
    "name": "ipython",
    "version": 3
   },
   "file_extension": ".py",
   "mimetype": "text/x-python",
   "name": "python",
   "nbconvert_exporter": "python",
   "pygments_lexer": "ipython3",
   "version": "3.9.13"
  }
 },
 "nbformat": 4,
 "nbformat_minor": 5
}
